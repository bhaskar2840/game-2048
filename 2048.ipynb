{
 "cells": [
  {
   "cell_type": "code",
   "execution_count": 2,
   "metadata": {},
   "outputs": [
    {
     "ename": "ModuleNotFoundError",
     "evalue": "No module named 'logicsfinal'",
     "output_type": "error",
     "traceback": [
      "\u001b[1;31m---------------------------------------------------------------------------\u001b[0m",
      "\u001b[1;31mModuleNotFoundError\u001b[0m                       Traceback (most recent call last)",
      "\u001b[1;32m<ipython-input-2-93d1eebe0406>\u001b[0m in \u001b[0;36m<module>\u001b[1;34m()\u001b[0m\n\u001b[0;32m      2\u001b[0m \u001b[1;33m\u001b[0m\u001b[0m\n\u001b[0;32m      3\u001b[0m \u001b[1;33m\u001b[0m\u001b[0m\n\u001b[1;32m----> 4\u001b[1;33m \u001b[1;32mimport\u001b[0m \u001b[0mlogicsfinal\u001b[0m\u001b[1;33m\u001b[0m\u001b[0m\n\u001b[0m\u001b[0;32m      5\u001b[0m \u001b[1;32mfrom\u001b[0m \u001b[0mgame2048\u001b[0m \u001b[1;32mimport\u001b[0m \u001b[0mconstants\u001b[0m \u001b[1;32mas\u001b[0m \u001b[0mc\u001b[0m\u001b[1;33m\u001b[0m\u001b[0m\n\u001b[0;32m      6\u001b[0m \u001b[1;33m\u001b[0m\u001b[0m\n",
      "\u001b[1;31mModuleNotFoundError\u001b[0m: No module named 'logicsfinal'"
     ]
    }
   ],
   "source": [
    "from tkinter import Frame, Label , CENTER\n",
    "\n",
    "\n",
    "import logicsfinal \n",
    "import constants as c\n",
    "\n",
    "\n",
    "class Game2048(Frame):\n",
    "    def __init__(self):\n",
    "        Frame.__init__(self)\n",
    "        \n",
    "        self.grid()\n",
    "        self.master.title(\"2048\")\n",
    "        self.master.bind(\"<Key>\" ,self.key_down)\n",
    "        self.commands={c.KEY_UP:logicsfinal.move_up,c.KEY_DOWN:logicsfinal.move_down,\n",
    "                      c.KEY_LEFT:logicsfinal.move_left, c.KEY_RIGHT:logicsfinal.move_right}\n",
    "        \n",
    "        self.grid_cells=[]\n",
    "        self.init_grid()\n",
    "        self.init_matrix()\n",
    "        self.update_grid_cells()\n",
    "        \n",
    "        self.mainloop()\n",
    "        \n",
    "    def _init_grid(self):\n",
    "        background = Frame(self, bg=c.BACKGROUND_COLOR_GAME, width=c.SIZE, height=c.SIZE)\n",
    "        background.grid()\n",
    "        \n",
    "        \n",
    "        for i in range(c.GRID_LEN):\n",
    "            grid_row=[]\n",
    "            for j in range(c.GRID_LEN):\n",
    "                cell = Frame(background, bg=c.BACKGROUND_COLOR_CELL_EMPTY,\n",
    "                            width= c.SIZE / c.GRID_LEN,\n",
    "                            height=c.SIZE / c.GRID_LEN)\n",
    "                cell.grid(row=i, column=j, padx=c.GRID_PADDING,\n",
    "                         pady=c.GRID_PADDING)\n",
    "                t = Label(master=cell, text=\"\",bg=c.BACKGROUND_COLOR_CELL_EMPTY,\n",
    "                         justify=CENTER, font=c.FONT,width=5 , height=2)\n",
    "                t.grid()\n",
    "                grid_row.append(t)\n",
    "            \n",
    "            self.grid_cells.append(grid_row)\n",
    "    \n",
    "    def init_matrix(self):\n",
    "        self.matrix=logicsfinal.start_game()\n",
    "        logicsfinal.add_new_2(self.matrix)\n",
    "        logicsfinal.add_new_2(self.matrix)\n",
    "        \n",
    "    def update_grid_cells(self):\n",
    "        for i in range(c.GRID_LEN):\n",
    "            for j in range(c.GRID_LEN):\n",
    "                new_number = self.matrix[i][j]\n",
    "                if new_number ==0:\n",
    "                    self.grid_cells[i][j].configure(text=\"\",\n",
    "                                                   bg=c.BACKGROUND_COLOR_CELL_EMPTY)\n",
    "                else:\n",
    "                    self.grid_cells[i][j].configure(text=str(new_number),\n",
    "                                                   bg=c.BACKGROUND_COLOR_DICT[new_number],\n",
    "                                                   fg=c.CELL_COLOR_DICT[new_number])\n",
    "        self.update_idletasks()\n",
    "        \n",
    "    \n",
    "    def key_down(self,event):\n",
    "        key=repr(event.char)\n",
    "        if key in self.commands:\n",
    "            self.matrix,changed=self.commands[repr(event.char)](self.matrix)\n",
    "            if cahnged:\n",
    "                logicsfinal.add_new_2(self.matrix)\n",
    "                self.update_grid_cells()\n",
    "                chnaged = False\n",
    "                if logicsfinal.get_current_state(self.matrix) == \"WON\":\n",
    "                    self,grid_cells[1][1].configue(text=\"you\", bg=c.BACKGROUND_COLOR_CELL_EMPTY)\n",
    "                    self,grid_cells[1][2].configue(text=\"WIN\", bg=c.BACKGROUND_COLOR_CELL_EMPTY)\n",
    "                    \n",
    "                if logicsfinal.get_current_state(self.matrix) == \"haar gaya :}\":\n",
    "                    self,grid_cells[1][1].configue(text=\"you\", bg=c.BACKGROUND_COLOR_CELL_EMPTY)\n",
    "                    self,grid_cells[1][2].configue(text=\"WIN\", bg=c.BACKGROUND_COLOR_CELL_EMPTY)\n",
    "                    \n",
    "  \n",
    "\n",
    "gamegrid = Game2048()              "
   ]
  },
  {
   "cell_type": "code",
   "execution_count": 3,
   "metadata": {},
   "outputs": [
    {
     "data": {
      "text/plain": [
       "['',\n",
       " 'C:\\\\Users\\\\bhaskar\\\\game2048',\n",
       " 'C:\\\\Users\\\\bhaskar\\\\Anaconda3\\\\python37.zip',\n",
       " 'C:\\\\Users\\\\bhaskar\\\\Anaconda3\\\\DLLs',\n",
       " 'C:\\\\Users\\\\bhaskar\\\\Anaconda3\\\\lib',\n",
       " 'C:\\\\Users\\\\bhaskar\\\\Anaconda3',\n",
       " 'C:\\\\Users\\\\bhaskar\\\\AppData\\\\Roaming\\\\Python\\\\Python37\\\\site-packages',\n",
       " 'C:\\\\Users\\\\bhaskar\\\\Anaconda3\\\\lib\\\\site-packages',\n",
       " 'C:\\\\Users\\\\bhaskar\\\\Anaconda3\\\\lib\\\\site-packages\\\\win32',\n",
       " 'C:\\\\Users\\\\bhaskar\\\\Anaconda3\\\\lib\\\\site-packages\\\\win32\\\\lib',\n",
       " 'C:\\\\Users\\\\bhaskar\\\\Anaconda3\\\\lib\\\\site-packages\\\\Pythonwin',\n",
       " 'C:\\\\Users\\\\bhaskar\\\\Anaconda3\\\\lib\\\\site-packages\\\\IPython\\\\extensions',\n",
       " 'C:\\\\Users\\\\bhaskar\\\\.ipython']"
      ]
     },
     "execution_count": 3,
     "metadata": {},
     "output_type": "execute_result"
    }
   ],
   "source": [
    "import sys\n",
    "sys.path\n"
   ]
  },
  {
   "cell_type": "code",
   "execution_count": null,
   "metadata": {},
   "outputs": [],
   "source": []
  }
 ],
 "metadata": {
  "kernelspec": {
   "display_name": "Python 3",
   "language": "python",
   "name": "python3"
  },
  "language_info": {
   "codemirror_mode": {
    "name": "ipython",
    "version": 3
   },
   "file_extension": ".py",
   "mimetype": "text/x-python",
   "name": "python",
   "nbconvert_exporter": "python",
   "pygments_lexer": "ipython3",
   "version": "3.7.0"
  }
 },
 "nbformat": 4,
 "nbformat_minor": 2
}